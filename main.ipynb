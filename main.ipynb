{
  "nbformat": 4,
  "nbformat_minor": 0,
  "metadata": {
    "colab": {
      "name": "Untitled3.ipynb",
      "provenance": [],
      "authorship_tag": "ABX9TyOCX9QrlgGgWIck8wGRwgpa",
      "include_colab_link": true
    },
    "kernelspec": {
      "name": "python3",
      "display_name": "Python 3"
    },
    "language_info": {
      "name": "python"
    }
  },
  "cells": [
    {
      "cell_type": "markdown",
      "metadata": {
        "id": "view-in-github",
        "colab_type": "text"
      },
      "source": [
        "<a href=\"https://colab.research.google.com/github/divediamic530/Olymplic_Data_analysis/blob/main/main.ipynb\" target=\"_parent\"><img src=\"https://colab.research.google.com/assets/colab-badge.svg\" alt=\"Open In Colab\"/></a>"
      ]
    },
    {
      "cell_type": "code",
      "metadata": {
        "id": "lsuwL4vzw16R"
      },
      "source": [
        "import pandas as pd"
      ],
      "execution_count": 5,
      "outputs": []
    },
    {
      "cell_type": "code",
      "metadata": {
        "id": "X6xXH-clz9PG"
      },
      "source": [
        "import numpy as np\n",
        "import seaborn as sns"
      ],
      "execution_count": 13,
      "outputs": []
    },
    {
      "cell_type": "code",
      "metadata": {
        "id": "nhP1SoH90DhT"
      },
      "source": [
        "import matplotlib.pyplot as plt\n",
        "%matplotlib inline"
      ],
      "execution_count": 14,
      "outputs": []
    },
    {
      "cell_type": "code",
      "metadata": {
        "colab": {
          "base_uri": "https://localhost:8080/"
        },
        "id": "2qOM0c0l0Dox",
        "outputId": "c80730a5-8f48-4de6-ff69-3e1e115dab67"
      },
      "source": [
        "data=pd.read_csv(\"summer.csv\")\n",
        "print(data.head(5))"
      ],
      "execution_count": 10,
      "outputs": [
        {
          "output_type": "stream",
          "name": "stdout",
          "text": [
            "   Year    City     Sport  ... Gender                       Event   Medal\n",
            "0  1896  Athens  Aquatics  ...    Men              100M Freestyle    Gold\n",
            "1  1896  Athens  Aquatics  ...    Men              100M Freestyle  Silver\n",
            "2  1896  Athens  Aquatics  ...    Men  100M Freestyle For Sailors  Bronze\n",
            "3  1896  Athens  Aquatics  ...    Men  100M Freestyle For Sailors    Gold\n",
            "4  1896  Athens  Aquatics  ...    Men  100M Freestyle For Sailors  Silver\n",
            "\n",
            "[5 rows x 9 columns]\n"
          ]
        }
      ]
    },
    {
      "cell_type": "code",
      "metadata": {
        "id": "-ZJ7WRA-0Dsa"
      },
      "source": [
        "data.rename(columns={'Total':'Total_Medals'},inplace=True)"
      ],
      "execution_count": 10,
      "outputs": []
    },
    {
      "cell_type": "code",
      "metadata": {
        "colab": {
          "base_uri": "https://localhost:8080/"
        },
        "id": "zi48ohKF0Dvr",
        "outputId": "81b30452-8665-4749-afe9-6e84f4e72b31"
      },
      "source": [
        "print(data.tail())"
      ],
      "execution_count": 11,
      "outputs": [
        {
          "output_type": "stream",
          "name": "stdout",
          "text": [
            "       Year    City      Sport  ... Gender     Event   Medal\n",
            "31160  2012  London  Wrestling  ...    Men  Wg 84 KG  Bronze\n",
            "31161  2012  London  Wrestling  ...    Men  Wg 96 KG    Gold\n",
            "31162  2012  London  Wrestling  ...    Men  Wg 96 KG  Silver\n",
            "31163  2012  London  Wrestling  ...    Men  Wg 96 KG  Bronze\n",
            "31164  2012  London  Wrestling  ...    Men  Wg 96 KG  Bronze\n",
            "\n",
            "[5 rows x 9 columns]\n"
          ]
        }
      ]
    },
    {
      "cell_type": "code",
      "metadata": {
        "colab": {
          "base_uri": "https://localhost:8080/"
        },
        "id": "yFrCMT-3vZju",
        "outputId": "485aae24-945e-4349-f5ba-77a18d249342"
      },
      "source": [
        "data.info()"
      ],
      "execution_count": 16,
      "outputs": [
        {
          "output_type": "stream",
          "name": "stdout",
          "text": [
            "<class 'pandas.core.frame.DataFrame'>\n",
            "RangeIndex: 31165 entries, 0 to 31164\n",
            "Data columns (total 9 columns):\n",
            " #   Column      Non-Null Count  Dtype \n",
            "---  ------      --------------  ----- \n",
            " 0   Year        31165 non-null  int64 \n",
            " 1   City        31165 non-null  object\n",
            " 2   Sport       31165 non-null  object\n",
            " 3   Discipline  31165 non-null  object\n",
            " 4   Athlete     31165 non-null  object\n",
            " 5   Country     31161 non-null  object\n",
            " 6   Gender      31165 non-null  object\n",
            " 7   Event       31165 non-null  object\n",
            " 8   Medal       31165 non-null  object\n",
            "dtypes: int64(1), object(8)\n",
            "memory usage: 2.1+ MB\n"
          ]
        }
      ]
    },
    {
      "cell_type": "code",
      "metadata": {
        "colab": {
          "base_uri": "https://localhost:8080/",
          "height": 297
        },
        "id": "sgFzyDOrwI6v",
        "outputId": "8492daaa-db05-4239-aaf2-9252ab80ec7e"
      },
      "source": [
        "data.describe()"
      ],
      "execution_count": 18,
      "outputs": [
        {
          "output_type": "execute_result",
          "data": {
            "text/html": [
              "<div>\n",
              "<style scoped>\n",
              "    .dataframe tbody tr th:only-of-type {\n",
              "        vertical-align: middle;\n",
              "    }\n",
              "\n",
              "    .dataframe tbody tr th {\n",
              "        vertical-align: top;\n",
              "    }\n",
              "\n",
              "    .dataframe thead th {\n",
              "        text-align: right;\n",
              "    }\n",
              "</style>\n",
              "<table border=\"1\" class=\"dataframe\">\n",
              "  <thead>\n",
              "    <tr style=\"text-align: right;\">\n",
              "      <th></th>\n",
              "      <th>Year</th>\n",
              "    </tr>\n",
              "  </thead>\n",
              "  <tbody>\n",
              "    <tr>\n",
              "      <th>count</th>\n",
              "      <td>31165.000000</td>\n",
              "    </tr>\n",
              "    <tr>\n",
              "      <th>mean</th>\n",
              "      <td>1970.482785</td>\n",
              "    </tr>\n",
              "    <tr>\n",
              "      <th>std</th>\n",
              "      <td>33.158416</td>\n",
              "    </tr>\n",
              "    <tr>\n",
              "      <th>min</th>\n",
              "      <td>1896.000000</td>\n",
              "    </tr>\n",
              "    <tr>\n",
              "      <th>25%</th>\n",
              "      <td>1948.000000</td>\n",
              "    </tr>\n",
              "    <tr>\n",
              "      <th>50%</th>\n",
              "      <td>1980.000000</td>\n",
              "    </tr>\n",
              "    <tr>\n",
              "      <th>75%</th>\n",
              "      <td>2000.000000</td>\n",
              "    </tr>\n",
              "    <tr>\n",
              "      <th>max</th>\n",
              "      <td>2012.000000</td>\n",
              "    </tr>\n",
              "  </tbody>\n",
              "</table>\n",
              "</div>"
            ],
            "text/plain": [
              "               Year\n",
              "count  31165.000000\n",
              "mean    1970.482785\n",
              "std       33.158416\n",
              "min     1896.000000\n",
              "25%     1948.000000\n",
              "50%     1980.000000\n",
              "75%     2000.000000\n",
              "max     2012.000000"
            ]
          },
          "metadata": {},
          "execution_count": 18
        }
      ]
    },
    {
      "cell_type": "code",
      "metadata": {
        "colab": {
          "base_uri": "https://localhost:8080/"
        },
        "id": "vvSzCIrEwd_R",
        "outputId": "b3822c1f-30d5-4b5b-962c-cf34aaa84bd6"
      },
      "source": [
        "nan_values=data.isna()\n",
        "nan_columns=nan_values.any()\n",
        "nan_columns"
      ],
      "execution_count": 19,
      "outputs": [
        {
          "output_type": "execute_result",
          "data": {
            "text/plain": [
              "Year          False\n",
              "City          False\n",
              "Sport         False\n",
              "Discipline    False\n",
              "Athlete       False\n",
              "Country        True\n",
              "Gender        False\n",
              "Event         False\n",
              "Medal         False\n",
              "dtype: bool"
            ]
          },
          "metadata": {},
          "execution_count": 19
        }
      ]
    },
    {
      "cell_type": "code",
      "metadata": {
        "colab": {
          "base_uri": "https://localhost:8080/"
        },
        "id": "iyiGvKktwyw9",
        "outputId": "fd401b1f-d88d-41a4-9bbc-51c2e799e057"
      },
      "source": [
        "data.isnull().sum()"
      ],
      "execution_count": 20,
      "outputs": [
        {
          "output_type": "execute_result",
          "data": {
            "text/plain": [
              "Year          0\n",
              "City          0\n",
              "Sport         0\n",
              "Discipline    0\n",
              "Athlete       0\n",
              "Country       4\n",
              "Gender        0\n",
              "Event         0\n",
              "Medal         0\n",
              "dtype: int64"
            ]
          },
          "metadata": {},
          "execution_count": 20
        }
      ]
    },
    {
      "cell_type": "code",
      "metadata": {
        "colab": {
          "base_uri": "https://localhost:8080/"
        },
        "id": "49lOz3_1ACIO",
        "outputId": "f0ecb4c4-eb61-4545-cedf-da8b83e0b4dd"
      },
      "source": [
        "#Total Medals\n",
        "data.Medal.value_counts()"
      ],
      "execution_count": 60,
      "outputs": [
        {
          "output_type": "execute_result",
          "data": {
            "text/plain": [
              "Gold      10486\n",
              "Bronze    10369\n",
              "Silver    10310\n",
              "Name: Medal, dtype: int64"
            ]
          },
          "metadata": {},
          "execution_count": 60
        }
      ]
    },
    {
      "cell_type": "code",
      "metadata": {
        "colab": {
          "base_uri": "https://localhost:8080/",
          "height": 419
        },
        "id": "O3tUfYTtw-ix",
        "outputId": "880d2ce1-4db8-42b8-cca5-c50424d1d8fc"
      },
      "source": [
        "#total Medals won by India\n",
        "data.query('Country==\"IND\"')"
      ],
      "execution_count": 59,
      "outputs": [
        {
          "output_type": "execute_result",
          "data": {
            "text/html": [
              "<div>\n",
              "<style scoped>\n",
              "    .dataframe tbody tr th:only-of-type {\n",
              "        vertical-align: middle;\n",
              "    }\n",
              "\n",
              "    .dataframe tbody tr th {\n",
              "        vertical-align: top;\n",
              "    }\n",
              "\n",
              "    .dataframe thead th {\n",
              "        text-align: right;\n",
              "    }\n",
              "</style>\n",
              "<table border=\"1\" class=\"dataframe\">\n",
              "  <thead>\n",
              "    <tr style=\"text-align: right;\">\n",
              "      <th></th>\n",
              "      <th>Year</th>\n",
              "      <th>City</th>\n",
              "      <th>Sport</th>\n",
              "      <th>Discipline</th>\n",
              "      <th>Athlete</th>\n",
              "      <th>Country</th>\n",
              "      <th>Gender</th>\n",
              "      <th>Event</th>\n",
              "      <th>Medal</th>\n",
              "    </tr>\n",
              "  </thead>\n",
              "  <tbody>\n",
              "    <tr>\n",
              "      <th>241</th>\n",
              "      <td>1900</td>\n",
              "      <td>Paris</td>\n",
              "      <td>Athletics</td>\n",
              "      <td>Athletics</td>\n",
              "      <td>PRITCHARD, Norman</td>\n",
              "      <td>IND</td>\n",
              "      <td>Men</td>\n",
              "      <td>200M</td>\n",
              "      <td>Silver</td>\n",
              "    </tr>\n",
              "    <tr>\n",
              "      <th>244</th>\n",
              "      <td>1900</td>\n",
              "      <td>Paris</td>\n",
              "      <td>Athletics</td>\n",
              "      <td>Athletics</td>\n",
              "      <td>PRITCHARD, Norman</td>\n",
              "      <td>IND</td>\n",
              "      <td>Men</td>\n",
              "      <td>200M Hurdles</td>\n",
              "      <td>Silver</td>\n",
              "    </tr>\n",
              "    <tr>\n",
              "      <th>5512</th>\n",
              "      <td>1928</td>\n",
              "      <td>Amsterdam</td>\n",
              "      <td>Hockey</td>\n",
              "      <td>Hockey</td>\n",
              "      <td>ALLEN, Richard James</td>\n",
              "      <td>IND</td>\n",
              "      <td>Men</td>\n",
              "      <td>Hockey</td>\n",
              "      <td>Gold</td>\n",
              "    </tr>\n",
              "    <tr>\n",
              "      <th>5513</th>\n",
              "      <td>1928</td>\n",
              "      <td>Amsterdam</td>\n",
              "      <td>Hockey</td>\n",
              "      <td>Hockey</td>\n",
              "      <td>CHAND, Dyan</td>\n",
              "      <td>IND</td>\n",
              "      <td>Men</td>\n",
              "      <td>Hockey</td>\n",
              "      <td>Gold</td>\n",
              "    </tr>\n",
              "    <tr>\n",
              "      <th>5514</th>\n",
              "      <td>1928</td>\n",
              "      <td>Amsterdam</td>\n",
              "      <td>Hockey</td>\n",
              "      <td>Hockey</td>\n",
              "      <td>GATELEY, Maurice A.</td>\n",
              "      <td>IND</td>\n",
              "      <td>Men</td>\n",
              "      <td>Hockey</td>\n",
              "      <td>Gold</td>\n",
              "    </tr>\n",
              "    <tr>\n",
              "      <th>...</th>\n",
              "      <td>...</td>\n",
              "      <td>...</td>\n",
              "      <td>...</td>\n",
              "      <td>...</td>\n",
              "      <td>...</td>\n",
              "      <td>...</td>\n",
              "      <td>...</td>\n",
              "      <td>...</td>\n",
              "      <td>...</td>\n",
              "    </tr>\n",
              "    <tr>\n",
              "      <th>29879</th>\n",
              "      <td>2012</td>\n",
              "      <td>London</td>\n",
              "      <td>Boxing</td>\n",
              "      <td>Boxing</td>\n",
              "      <td>KOM, Mary</td>\n",
              "      <td>IND</td>\n",
              "      <td>Women</td>\n",
              "      <td>51 KG</td>\n",
              "      <td>Bronze</td>\n",
              "    </tr>\n",
              "    <tr>\n",
              "      <th>30841</th>\n",
              "      <td>2012</td>\n",
              "      <td>London</td>\n",
              "      <td>Shooting</td>\n",
              "      <td>Shooting</td>\n",
              "      <td>NARANG, Gagan</td>\n",
              "      <td>IND</td>\n",
              "      <td>Men</td>\n",
              "      <td>10M Air Rifle</td>\n",
              "      <td>Bronze</td>\n",
              "    </tr>\n",
              "    <tr>\n",
              "      <th>30849</th>\n",
              "      <td>2012</td>\n",
              "      <td>London</td>\n",
              "      <td>Shooting</td>\n",
              "      <td>Shooting</td>\n",
              "      <td>KUMAR, Vijay</td>\n",
              "      <td>IND</td>\n",
              "      <td>Men</td>\n",
              "      <td>25M Rapid Pistol</td>\n",
              "      <td>Silver</td>\n",
              "    </tr>\n",
              "    <tr>\n",
              "      <th>31111</th>\n",
              "      <td>2012</td>\n",
              "      <td>London</td>\n",
              "      <td>Wrestling</td>\n",
              "      <td>Wrestling Freestyle</td>\n",
              "      <td>DUTT, Yogeshwar</td>\n",
              "      <td>IND</td>\n",
              "      <td>Men</td>\n",
              "      <td>Wf 60 KG</td>\n",
              "      <td>Bronze</td>\n",
              "    </tr>\n",
              "    <tr>\n",
              "      <th>31118</th>\n",
              "      <td>2012</td>\n",
              "      <td>London</td>\n",
              "      <td>Wrestling</td>\n",
              "      <td>Wrestling Freestyle</td>\n",
              "      <td>KUMAR, Sushil</td>\n",
              "      <td>IND</td>\n",
              "      <td>Men</td>\n",
              "      <td>Wf 66 KG</td>\n",
              "      <td>Silver</td>\n",
              "    </tr>\n",
              "  </tbody>\n",
              "</table>\n",
              "<p>184 rows × 9 columns</p>\n",
              "</div>"
            ],
            "text/plain": [
              "       Year       City      Sport  ... Gender             Event   Medal\n",
              "241    1900      Paris  Athletics  ...    Men              200M  Silver\n",
              "244    1900      Paris  Athletics  ...    Men      200M Hurdles  Silver\n",
              "5512   1928  Amsterdam     Hockey  ...    Men            Hockey    Gold\n",
              "5513   1928  Amsterdam     Hockey  ...    Men            Hockey    Gold\n",
              "5514   1928  Amsterdam     Hockey  ...    Men            Hockey    Gold\n",
              "...     ...        ...        ...  ...    ...               ...     ...\n",
              "29879  2012     London     Boxing  ...  Women             51 KG  Bronze\n",
              "30841  2012     London   Shooting  ...    Men     10M Air Rifle  Bronze\n",
              "30849  2012     London   Shooting  ...    Men  25M Rapid Pistol  Silver\n",
              "31111  2012     London  Wrestling  ...    Men          Wf 60 KG  Bronze\n",
              "31118  2012     London  Wrestling  ...    Men          Wf 66 KG  Silver\n",
              "\n",
              "[184 rows x 9 columns]"
            ]
          },
          "metadata": {},
          "execution_count": 59
        }
      ]
    },
    {
      "cell_type": "code",
      "metadata": {
        "colab": {
          "base_uri": "https://localhost:8080/",
          "height": 80
        },
        "id": "ZGgQrA5Y5MiL",
        "outputId": "7c38a2ff-22e3-4628-afde-cec4ee20e1e2"
      },
      "source": [
        "data.query('Country==\"IND\"').head(1)"
      ],
      "execution_count": 40,
      "outputs": [
        {
          "output_type": "execute_result",
          "data": {
            "text/html": [
              "<div>\n",
              "<style scoped>\n",
              "    .dataframe tbody tr th:only-of-type {\n",
              "        vertical-align: middle;\n",
              "    }\n",
              "\n",
              "    .dataframe tbody tr th {\n",
              "        vertical-align: top;\n",
              "    }\n",
              "\n",
              "    .dataframe thead th {\n",
              "        text-align: right;\n",
              "    }\n",
              "</style>\n",
              "<table border=\"1\" class=\"dataframe\">\n",
              "  <thead>\n",
              "    <tr style=\"text-align: right;\">\n",
              "      <th></th>\n",
              "      <th>Year</th>\n",
              "      <th>City</th>\n",
              "      <th>Sport</th>\n",
              "      <th>Discipline</th>\n",
              "      <th>Athlete</th>\n",
              "      <th>Country</th>\n",
              "      <th>Gender</th>\n",
              "      <th>Event</th>\n",
              "      <th>Medal</th>\n",
              "    </tr>\n",
              "  </thead>\n",
              "  <tbody>\n",
              "    <tr>\n",
              "      <th>241</th>\n",
              "      <td>1900</td>\n",
              "      <td>Paris</td>\n",
              "      <td>Athletics</td>\n",
              "      <td>Athletics</td>\n",
              "      <td>PRITCHARD, Norman</td>\n",
              "      <td>IND</td>\n",
              "      <td>Men</td>\n",
              "      <td>200M</td>\n",
              "      <td>Silver</td>\n",
              "    </tr>\n",
              "  </tbody>\n",
              "</table>\n",
              "</div>"
            ],
            "text/plain": [
              "     Year   City      Sport Discipline  ... Country Gender Event   Medal\n",
              "241  1900  Paris  Athletics  Athletics  ...     IND    Men  200M  Silver\n",
              "\n",
              "[1 rows x 9 columns]"
            ]
          },
          "metadata": {},
          "execution_count": 40
        }
      ]
    },
    {
      "cell_type": "code",
      "metadata": {
        "id": "ERwDg27xyxIm"
      },
      "source": [
        "#Top Countries Participating\n",
        "top_countries=data.Country.value_counts().sort_values(ascending=False).head(10)"
      ],
      "execution_count": 31,
      "outputs": []
    },
    {
      "cell_type": "code",
      "metadata": {
        "colab": {
          "base_uri": "https://localhost:8080/"
        },
        "id": "x9U5U-VozgQ1",
        "outputId": "8d3b6a5f-bd3c-40cd-edd2-110df7f46f90"
      },
      "source": [
        "top_countries"
      ],
      "execution_count": 33,
      "outputs": [
        {
          "output_type": "execute_result",
          "data": {
            "text/plain": [
              "USA    4585\n",
              "URS    2049\n",
              "GBR    1720\n",
              "FRA    1396\n",
              "GER    1305\n",
              "ITA    1296\n",
              "AUS    1189\n",
              "HUN    1079\n",
              "SWE    1044\n",
              "NED     851\n",
              "Name: Country, dtype: int64"
            ]
          },
          "metadata": {},
          "execution_count": 33
        }
      ]
    },
    {
      "cell_type": "code",
      "metadata": {
        "colab": {
          "base_uri": "https://localhost:8080/",
          "height": 390
        },
        "id": "04ykzIwRyyzk",
        "outputId": "189fe2cf-3089-449e-c710-cf44475a2123"
      },
      "source": [
        "#Plotting Graph For Top 10 Countries\n",
        "plt.figure(figsize=(12,6))\n",
        "plt.title('Overall Participation by Countries')\n",
        "sns.barplot(x=top_countries.index, y=top_countries,palette='Set1');\n"
      ],
      "execution_count": 38,
      "outputs": [
        {
          "output_type": "display_data",
          "data": {
            "image/png": "[encoded data removed]",
            "text/plain": [
              "<Figure size 864x432 with 1 Axes>"
            ]
          },
          "metadata": {
            "needs_background": "light"
          }
        }
      ]
    },
    {
      "cell_type": "code",
      "metadata": {
        "colab": {
          "base_uri": "https://localhost:8080/"
        },
        "id": "O7lFT2iC1GDQ",
        "outputId": "b21121b5-dc99-4409-d530-c2ee42df87ca"
      },
      "source": [
        "#Male and Female Players In the Events \n",
        "gendis=data.Gender.value_counts().sort_values(ascending=False).head(10)\n",
        "gendis"
      ],
      "execution_count": 62,
      "outputs": [
        {
          "output_type": "execute_result",
          "data": {
            "text/plain": [
              "Men      22746\n",
              "Women     8419\n",
              "Name: Gender, dtype: int64"
            ]
          },
          "metadata": {},
          "execution_count": 62
        }
      ]
    },
    {
      "cell_type": "code",
      "metadata": {
        "colab": {
          "base_uri": "https://localhost:8080/",
          "height": 427
        },
        "id": "dxykDZ337B4S",
        "outputId": "50cba24b-dcd7-4ed1-c017-e396fe63491a"
      },
      "source": [
        "#Plotting Graph For Gender Distribution\n",
        "plt.figure(figsize=(14,7))\n",
        "plt.title('Gender Distribution Of Athletes')\n",
        "plt.pie(gendis, labels=gendis.index,startangle=90);"
      ],
      "execution_count": 63,
      "outputs": [
        {
          "output_type": "display_data",
          "data": {
            "image/png": "[encoded data removed]",
            "text/plain": [
              "<Figure size 1008x504 with 1 Axes>"
            ]
          },
          "metadata": {}
        }
      ]
    },
    {
      "cell_type": "code",
      "metadata": {
        "id": "i-F7FUH2DxHo"
      },
      "source": [
        ""
      ],
      "execution_count": null,
      "outputs": []
    },
    {
      "cell_type": "code",
      "metadata": {
        "id": "KMlxsaz7_Nro"
      },
      "source": [
        "#Total NUmber Of Female Athelets in Each Olympics\n"
      ],
      "execution_count": 83,
      "outputs": []
    },
    {
      "cell_type": "code",
      "metadata": {
        "id": "vCq31-zE_BPM"
      },
      "source": [
        ""
      ],
      "execution_count": null,
      "outputs": []
    }
  ]
}