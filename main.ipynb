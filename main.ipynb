{
  "nbformat": 4,
  "nbformat_minor": 0,
  "metadata": {
    "colab": {
      "name": "Untitled3.ipynb",
      "provenance": [],
      "authorship_tag": "ABX9TyM5Zp1zsnAG35NUvqPyO6Kf",
      "include_colab_link": true
    },
    "kernelspec": {
      "name": "python3",
      "display_name": "Python 3"
    },
    "language_info": {
      "name": "python"
    }
  },
  "cells": [
    {
      "cell_type": "markdown",
      "metadata": {
        "id": "view-in-github",
        "colab_type": "text"
      },
      "source": [
        "<a href=\"https://colab.research.google.com/github/divediamic530/Olymplic_Data_analysis/blob/main/main.ipynb\" target=\"_parent\"><img src=\"https://colab.research.google.com/assets/colab-badge.svg\" alt=\"Open In Colab\"/></a>"
      ]
    },
    {
      "cell_type": "markdown",
      "metadata": {
        "id": "buwgVNpgnqQZ"
      },
      "source": [
        "**Importing Pandas**"
      ]
    },
    {
      "cell_type": "code",
      "metadata": {
        "id": "lsuwL4vzw16R"
      },
      "source": [
        "import pandas as pd"
      ],
      "execution_count": 3,
      "outputs": []
    },
    {
      "cell_type": "markdown",
      "metadata": {
        "id": "LkowUD3EnmZz"
      },
      "source": [
        "**Importing NumPY and** **Searborn** **bold text**"
      ]
    },
    {
      "cell_type": "code",
      "metadata": {
        "id": "X6xXH-clz9PG"
      },
      "source": [
        "import numpy as np\n",
        "import seaborn as sns"
      ],
      "execution_count": 4,
      "outputs": []
    },
    {
      "cell_type": "markdown",
      "metadata": {
        "id": "Oh1VgmxHn101"
      },
      "source": [
        "**Importing Mat PLotlib **"
      ]
    },
    {
      "cell_type": "code",
      "metadata": {
        "id": "nhP1SoH90DhT"
      },
      "source": [
        "import matplotlib.pyplot as plt\n",
        "%matplotlib inline\n",
        "import matplotlib"
      ],
      "execution_count": 12,
      "outputs": []
    },
    {
      "cell_type": "markdown",
      "metadata": {
        "id": "Dc15tExYoCWT"
      },
      "source": [
        "**Fetching data from data file summer.csv**"
      ]
    },
    {
      "cell_type": "code",
      "metadata": {
        "colab": {
          "base_uri": "https://localhost:8080/"
        },
        "id": "2qOM0c0l0Dox",
        "outputId": "463c45b6-a584-4a93-cc4b-4a18574bcf87"
      },
      "source": [
        "data=pd.read_csv(\"summer.csv\")\n",
        "print(data.head(5))"
      ],
      "execution_count": 6,
      "outputs": [
        {
          "output_type": "stream",
          "name": "stdout",
          "text": [
            "   Year    City     Sport  ... Gender                       Event   Medal\n",
            "0  1896  Athens  Aquatics  ...    Men              100M Freestyle    Gold\n",
            "1  1896  Athens  Aquatics  ...    Men              100M Freestyle  Silver\n",
            "2  1896  Athens  Aquatics  ...    Men  100M Freestyle For Sailors  Bronze\n",
            "3  1896  Athens  Aquatics  ...    Men  100M Freestyle For Sailors    Gold\n",
            "4  1896  Athens  Aquatics  ...    Men  100M Freestyle For Sailors  Silver\n",
            "\n",
            "[5 rows x 9 columns]\n"
          ]
        }
      ]
    },
    {
      "cell_type": "code",
      "metadata": {
        "id": "-ZJ7WRA-0Dsa"
      },
      "source": [
        "data.rename(columns={'Total':'Total_Medals'},inplace=True)"
      ],
      "execution_count": null,
      "outputs": []
    },
    {
      "cell_type": "markdown",
      "metadata": {
        "id": "MJhHejiFoM61"
      },
      "source": [
        "**Printing data from bottom**"
      ]
    },
    {
      "cell_type": "code",
      "metadata": {
        "colab": {
          "base_uri": "https://localhost:8080/"
        },
        "id": "zi48ohKF0Dvr",
        "outputId": "81b30452-8665-4749-afe9-6e84f4e72b31"
      },
      "source": [
        "print(data.tail())"
      ],
      "execution_count": null,
      "outputs": [
        {
          "output_type": "stream",
          "name": "stdout",
          "text": [
            "       Year    City      Sport  ... Gender     Event   Medal\n",
            "31160  2012  London  Wrestling  ...    Men  Wg 84 KG  Bronze\n",
            "31161  2012  London  Wrestling  ...    Men  Wg 96 KG    Gold\n",
            "31162  2012  London  Wrestling  ...    Men  Wg 96 KG  Silver\n",
            "31163  2012  London  Wrestling  ...    Men  Wg 96 KG  Bronze\n",
            "31164  2012  London  Wrestling  ...    Men  Wg 96 KG  Bronze\n",
            "\n",
            "[5 rows x 9 columns]\n"
          ]
        }
      ]
    },
    {
      "cell_type": "code",
      "metadata": {
        "colab": {
          "base_uri": "https://localhost:8080/"
        },
        "id": "yFrCMT-3vZju",
        "outputId": "485aae24-945e-4349-f5ba-77a18d249342"
      },
      "source": [
        "data.info()"
      ],
      "execution_count": null,
      "outputs": [
        {
          "output_type": "stream",
          "name": "stdout",
          "text": [
            "<class 'pandas.core.frame.DataFrame'>\n",
            "RangeIndex: 31165 entries, 0 to 31164\n",
            "Data columns (total 9 columns):\n",
            " #   Column      Non-Null Count  Dtype \n",
            "---  ------      --------------  ----- \n",
            " 0   Year        31165 non-null  int64 \n",
            " 1   City        31165 non-null  object\n",
            " 2   Sport       31165 non-null  object\n",
            " 3   Discipline  31165 non-null  object\n",
            " 4   Athlete     31165 non-null  object\n",
            " 5   Country     31161 non-null  object\n",
            " 6   Gender      31165 non-null  object\n",
            " 7   Event       31165 non-null  object\n",
            " 8   Medal       31165 non-null  object\n",
            "dtypes: int64(1), object(8)\n",
            "memory usage: 2.1+ MB\n"
          ]
        }
      ]
    },
    {
      "cell_type": "code",
      "metadata": {
        "colab": {
          "base_uri": "https://localhost:8080/",
          "height": 297
        },
        "id": "sgFzyDOrwI6v",
        "outputId": "8492daaa-db05-4239-aaf2-9252ab80ec7e"
      },
      "source": [
        "data.describe()"
      ],
      "execution_count": null,
      "outputs": [
        {
          "output_type": "execute_result",
          "data": {
            "text/html": [
              "<div>\n",
              "<style scoped>\n",
              "    .dataframe tbody tr th:only-of-type {\n",
              "        vertical-align: middle;\n",
              "    }\n",
              "\n",
              "    .dataframe tbody tr th {\n",
              "        vertical-align: top;\n",
              "    }\n",
              "\n",
              "    .dataframe thead th {\n",
              "        text-align: right;\n",
              "    }\n",
              "</style>\n",
              "<table border=\"1\" class=\"dataframe\">\n",
              "  <thead>\n",
              "    <tr style=\"text-align: right;\">\n",
              "      <th></th>\n",
              "      <th>Year</th>\n",
              "    </tr>\n",
              "  </thead>\n",
              "  <tbody>\n",
              "    <tr>\n",
              "      <th>count</th>\n",
              "      <td>31165.000000</td>\n",
              "    </tr>\n",
              "    <tr>\n",
              "      <th>mean</th>\n",
              "      <td>1970.482785</td>\n",
              "    </tr>\n",
              "    <tr>\n",
              "      <th>std</th>\n",
              "      <td>33.158416</td>\n",
              "    </tr>\n",
              "    <tr>\n",
              "      <th>min</th>\n",
              "      <td>1896.000000</td>\n",
              "    </tr>\n",
              "    <tr>\n",
              "      <th>25%</th>\n",
              "      <td>1948.000000</td>\n",
              "    </tr>\n",
              "    <tr>\n",
              "      <th>50%</th>\n",
              "      <td>1980.000000</td>\n",
              "    </tr>\n",
              "    <tr>\n",
              "      <th>75%</th>\n",
              "      <td>2000.000000</td>\n",
              "    </tr>\n",
              "    <tr>\n",
              "      <th>max</th>\n",
              "      <td>2012.000000</td>\n",
              "    </tr>\n",
              "  </tbody>\n",
              "</table>\n",
              "</div>"
            ],
            "text/plain": [
              "               Year\n",
              "count  31165.000000\n",
              "mean    1970.482785\n",
              "std       33.158416\n",
              "min     1896.000000\n",
              "25%     1948.000000\n",
              "50%     1980.000000\n",
              "75%     2000.000000\n",
              "max     2012.000000"
            ]
          },
          "metadata": {},
          "execution_count": 18
        }
      ]
    },
    {
      "cell_type": "markdown",
      "metadata": {
        "id": "Dw7rFmrIoWJu"
      },
      "source": [
        "**Checking The Null Value in Data File Summer.CSV**"
      ]
    },
    {
      "cell_type": "code",
      "metadata": {
        "colab": {
          "base_uri": "https://localhost:8080/"
        },
        "id": "vvSzCIrEwd_R",
        "outputId": "b3822c1f-30d5-4b5b-962c-cf34aaa84bd6"
      },
      "source": [
        "nan_values=data.isna()\n",
        "nan_columns=nan_values.any()\n",
        "nan_columns"
      ],
      "execution_count": null,
      "outputs": [
        {
          "output_type": "execute_result",
          "data": {
            "text/plain": [
              "Year          False\n",
              "City          False\n",
              "Sport         False\n",
              "Discipline    False\n",
              "Athlete       False\n",
              "Country        True\n",
              "Gender        False\n",
              "Event         False\n",
              "Medal         False\n",
              "dtype: bool"
            ]
          },
          "metadata": {},
          "execution_count": 19
        }
      ]
    },
    {
      "cell_type": "code",
      "metadata": {
        "colab": {
          "base_uri": "https://localhost:8080/"
        },
        "id": "iyiGvKktwyw9",
        "outputId": "fd401b1f-d88d-41a4-9bbc-51c2e799e057"
      },
      "source": [
        "data.isnull().sum()"
      ],
      "execution_count": null,
      "outputs": [
        {
          "output_type": "execute_result",
          "data": {
            "text/plain": [
              "Year          0\n",
              "City          0\n",
              "Sport         0\n",
              "Discipline    0\n",
              "Athlete       0\n",
              "Country       4\n",
              "Gender        0\n",
              "Event         0\n",
              "Medal         0\n",
              "dtype: int64"
            ]
          },
          "metadata": {},
          "execution_count": 20
        }
      ]
    },
    {
      "cell_type": "markdown",
      "metadata": {
        "id": "aazFstcDodgp"
      },
      "source": [
        "1. **Total medals distributed  Till Now**"
      ]
    },
    {
      "cell_type": "code",
      "metadata": {
        "colab": {
          "base_uri": "https://localhost:8080/"
        },
        "id": "49lOz3_1ACIO",
        "outputId": "f0ecb4c4-eb61-4545-cedf-da8b83e0b4dd"
      },
      "source": [
        "#Total Medals\n",
        "data.Medal.value_counts()"
      ],
      "execution_count": null,
      "outputs": [
        {
          "output_type": "execute_result",
          "data": {
            "text/plain": [
              "Gold      10486\n",
              "Bronze    10369\n",
              "Silver    10310\n",
              "Name: Medal, dtype: int64"
            ]
          },
          "metadata": {},
          "execution_count": 60
        }
      ]
    },
    {
      "cell_type": "markdown",
      "metadata": {
        "id": "3Hl9Ax8honB0"
      },
      "source": [
        "2.Total Medals Won By India Till Now"
      ]
    },
    {
      "cell_type": "code",
      "metadata": {
        "colab": {
          "base_uri": "https://localhost:8080/",
          "height": 419
        },
        "id": "O3tUfYTtw-ix",
        "outputId": "880d2ce1-4db8-42b8-cca5-c50424d1d8fc"
      },
      "source": [
        "#total Medals won by India\n",
        "data.query('Country==\"IND\"')"
      ],
      "execution_count": null,
      "outputs": [
        {
          "output_type": "execute_result",
          "data": {
            "text/html": [
              "<div>\n",
              "<style scoped>\n",
              "    .dataframe tbody tr th:only-of-type {\n",
              "        vertical-align: middle;\n",
              "    }\n",
              "\n",
              "    .dataframe tbody tr th {\n",
              "        vertical-align: top;\n",
              "    }\n",
              "\n",
              "    .dataframe thead th {\n",
              "        text-align: right;\n",
              "    }\n",
              "</style>\n",
              "<table border=\"1\" class=\"dataframe\">\n",
              "  <thead>\n",
              "    <tr style=\"text-align: right;\">\n",
              "      <th></th>\n",
              "      <th>Year</th>\n",
              "      <th>City</th>\n",
              "      <th>Sport</th>\n",
              "      <th>Discipline</th>\n",
              "      <th>Athlete</th>\n",
              "      <th>Country</th>\n",
              "      <th>Gender</th>\n",
              "      <th>Event</th>\n",
              "      <th>Medal</th>\n",
              "    </tr>\n",
              "  </thead>\n",
              "  <tbody>\n",
              "    <tr>\n",
              "      <th>241</th>\n",
              "      <td>1900</td>\n",
              "      <td>Paris</td>\n",
              "      <td>Athletics</td>\n",
              "      <td>Athletics</td>\n",
              "      <td>PRITCHARD, Norman</td>\n",
              "      <td>IND</td>\n",
              "      <td>Men</td>\n",
              "      <td>200M</td>\n",
              "      <td>Silver</td>\n",
              "    </tr>\n",
              "    <tr>\n",
              "      <th>244</th>\n",
              "      <td>1900</td>\n",
              "      <td>Paris</td>\n",
              "      <td>Athletics</td>\n",
              "      <td>Athletics</td>\n",
              "      <td>PRITCHARD, Norman</td>\n",
              "      <td>IND</td>\n",
              "      <td>Men</td>\n",
              "      <td>200M Hurdles</td>\n",
              "      <td>Silver</td>\n",
              "    </tr>\n",
              "    <tr>\n",
              "      <th>5512</th>\n",
              "      <td>1928</td>\n",
              "      <td>Amsterdam</td>\n",
              "      <td>Hockey</td>\n",
              "      <td>Hockey</td>\n",
              "      <td>ALLEN, Richard James</td>\n",
              "      <td>IND</td>\n",
              "      <td>Men</td>\n",
              "      <td>Hockey</td>\n",
              "      <td>Gold</td>\n",
              "    </tr>\n",
              "    <tr>\n",
              "      <th>5513</th>\n",
              "      <td>1928</td>\n",
              "      <td>Amsterdam</td>\n",
              "      <td>Hockey</td>\n",
              "      <td>Hockey</td>\n",
              "      <td>CHAND, Dyan</td>\n",
              "      <td>IND</td>\n",
              "      <td>Men</td>\n",
              "      <td>Hockey</td>\n",
              "      <td>Gold</td>\n",
              "    </tr>\n",
              "    <tr>\n",
              "      <th>5514</th>\n",
              "      <td>1928</td>\n",
              "      <td>Amsterdam</td>\n",
              "      <td>Hockey</td>\n",
              "      <td>Hockey</td>\n",
              "      <td>GATELEY, Maurice A.</td>\n",
              "      <td>IND</td>\n",
              "      <td>Men</td>\n",
              "      <td>Hockey</td>\n",
              "      <td>Gold</td>\n",
              "    </tr>\n",
              "    <tr>\n",
              "      <th>...</th>\n",
              "      <td>...</td>\n",
              "      <td>...</td>\n",
              "      <td>...</td>\n",
              "      <td>...</td>\n",
              "      <td>...</td>\n",
              "      <td>...</td>\n",
              "      <td>...</td>\n",
              "      <td>...</td>\n",
              "      <td>...</td>\n",
              "    </tr>\n",
              "    <tr>\n",
              "      <th>29879</th>\n",
              "      <td>2012</td>\n",
              "      <td>London</td>\n",
              "      <td>Boxing</td>\n",
              "      <td>Boxing</td>\n",
              "      <td>KOM, Mary</td>\n",
              "      <td>IND</td>\n",
              "      <td>Women</td>\n",
              "      <td>51 KG</td>\n",
              "      <td>Bronze</td>\n",
              "    </tr>\n",
              "    <tr>\n",
              "      <th>30841</th>\n",
              "      <td>2012</td>\n",
              "      <td>London</td>\n",
              "      <td>Shooting</td>\n",
              "      <td>Shooting</td>\n",
              "      <td>NARANG, Gagan</td>\n",
              "      <td>IND</td>\n",
              "      <td>Men</td>\n",
              "      <td>10M Air Rifle</td>\n",
              "      <td>Bronze</td>\n",
              "    </tr>\n",
              "    <tr>\n",
              "      <th>30849</th>\n",
              "      <td>2012</td>\n",
              "      <td>London</td>\n",
              "      <td>Shooting</td>\n",
              "      <td>Shooting</td>\n",
              "      <td>KUMAR, Vijay</td>\n",
              "      <td>IND</td>\n",
              "      <td>Men</td>\n",
              "      <td>25M Rapid Pistol</td>\n",
              "      <td>Silver</td>\n",
              "    </tr>\n",
              "    <tr>\n",
              "      <th>31111</th>\n",
              "      <td>2012</td>\n",
              "      <td>London</td>\n",
              "      <td>Wrestling</td>\n",
              "      <td>Wrestling Freestyle</td>\n",
              "      <td>DUTT, Yogeshwar</td>\n",
              "      <td>IND</td>\n",
              "      <td>Men</td>\n",
              "      <td>Wf 60 KG</td>\n",
              "      <td>Bronze</td>\n",
              "    </tr>\n",
              "    <tr>\n",
              "      <th>31118</th>\n",
              "      <td>2012</td>\n",
              "      <td>London</td>\n",
              "      <td>Wrestling</td>\n",
              "      <td>Wrestling Freestyle</td>\n",
              "      <td>KUMAR, Sushil</td>\n",
              "      <td>IND</td>\n",
              "      <td>Men</td>\n",
              "      <td>Wf 66 KG</td>\n",
              "      <td>Silver</td>\n",
              "    </tr>\n",
              "  </tbody>\n",
              "</table>\n",
              "<p>184 rows × 9 columns</p>\n",
              "</div>"
            ],
            "text/plain": [
              "       Year       City      Sport  ... Gender             Event   Medal\n",
              "241    1900      Paris  Athletics  ...    Men              200M  Silver\n",
              "244    1900      Paris  Athletics  ...    Men      200M Hurdles  Silver\n",
              "5512   1928  Amsterdam     Hockey  ...    Men            Hockey    Gold\n",
              "5513   1928  Amsterdam     Hockey  ...    Men            Hockey    Gold\n",
              "5514   1928  Amsterdam     Hockey  ...    Men            Hockey    Gold\n",
              "...     ...        ...        ...  ...    ...               ...     ...\n",
              "29879  2012     London     Boxing  ...  Women             51 KG  Bronze\n",
              "30841  2012     London   Shooting  ...    Men     10M Air Rifle  Bronze\n",
              "30849  2012     London   Shooting  ...    Men  25M Rapid Pistol  Silver\n",
              "31111  2012     London  Wrestling  ...    Men          Wf 60 KG  Bronze\n",
              "31118  2012     London  Wrestling  ...    Men          Wf 66 KG  Silver\n",
              "\n",
              "[184 rows x 9 columns]"
            ]
          },
          "metadata": {},
          "execution_count": 59
        }
      ]
    },
    {
      "cell_type": "markdown",
      "metadata": {
        "id": "W9XatWSZpD9Y"
      },
      "source": [
        "3. **First Medal Won by India**"
      ]
    },
    {
      "cell_type": "code",
      "metadata": {
        "colab": {
          "base_uri": "https://localhost:8080/",
          "height": 80
        },
        "id": "ZGgQrA5Y5MiL",
        "outputId": "7c38a2ff-22e3-4628-afde-cec4ee20e1e2"
      },
      "source": [
        "data.query('Country==\"IND\"').head(1)"
      ],
      "execution_count": null,
      "outputs": [
        {
          "output_type": "execute_result",
          "data": {
            "text/html": [
              "<div>\n",
              "<style scoped>\n",
              "    .dataframe tbody tr th:only-of-type {\n",
              "        vertical-align: middle;\n",
              "    }\n",
              "\n",
              "    .dataframe tbody tr th {\n",
              "        vertical-align: top;\n",
              "    }\n",
              "\n",
              "    .dataframe thead th {\n",
              "        text-align: right;\n",
              "    }\n",
              "</style>\n",
              "<table border=\"1\" class=\"dataframe\">\n",
              "  <thead>\n",
              "    <tr style=\"text-align: right;\">\n",
              "      <th></th>\n",
              "      <th>Year</th>\n",
              "      <th>City</th>\n",
              "      <th>Sport</th>\n",
              "      <th>Discipline</th>\n",
              "      <th>Athlete</th>\n",
              "      <th>Country</th>\n",
              "      <th>Gender</th>\n",
              "      <th>Event</th>\n",
              "      <th>Medal</th>\n",
              "    </tr>\n",
              "  </thead>\n",
              "  <tbody>\n",
              "    <tr>\n",
              "      <th>241</th>\n",
              "      <td>1900</td>\n",
              "      <td>Paris</td>\n",
              "      <td>Athletics</td>\n",
              "      <td>Athletics</td>\n",
              "      <td>PRITCHARD, Norman</td>\n",
              "      <td>IND</td>\n",
              "      <td>Men</td>\n",
              "      <td>200M</td>\n",
              "      <td>Silver</td>\n",
              "    </tr>\n",
              "  </tbody>\n",
              "</table>\n",
              "</div>"
            ],
            "text/plain": [
              "     Year   City      Sport Discipline  ... Country Gender Event   Medal\n",
              "241  1900  Paris  Athletics  Athletics  ...     IND    Men  200M  Silver\n",
              "\n",
              "[1 rows x 9 columns]"
            ]
          },
          "metadata": {},
          "execution_count": 40
        }
      ]
    },
    {
      "cell_type": "markdown",
      "metadata": {
        "id": "iXCIjMMSpRcJ"
      },
      "source": [
        "4. **Top Countries Participating in Summer olympics based on players** "
      ]
    },
    {
      "cell_type": "code",
      "metadata": {
        "id": "ERwDg27xyxIm"
      },
      "source": [
        "#Top Countries Participating\n",
        "top_countries=data.Country.value_counts().sort_values(ascending=False).head(10)"
      ],
      "execution_count": null,
      "outputs": []
    },
    {
      "cell_type": "code",
      "metadata": {
        "colab": {
          "base_uri": "https://localhost:8080/"
        },
        "id": "x9U5U-VozgQ1",
        "outputId": "8d3b6a5f-bd3c-40cd-edd2-110df7f46f90"
      },
      "source": [
        "top_countries"
      ],
      "execution_count": null,
      "outputs": [
        {
          "output_type": "execute_result",
          "data": {
            "text/plain": [
              "USA    4585\n",
              "URS    2049\n",
              "GBR    1720\n",
              "FRA    1396\n",
              "GER    1305\n",
              "ITA    1296\n",
              "AUS    1189\n",
              "HUN    1079\n",
              "SWE    1044\n",
              "NED     851\n",
              "Name: Country, dtype: int64"
            ]
          },
          "metadata": {},
          "execution_count": 33
        }
      ]
    },
    {
      "cell_type": "code",
      "metadata": {
        "colab": {
          "base_uri": "https://localhost:8080/",
          "height": 390
        },
        "id": "04ykzIwRyyzk",
        "outputId": "189fe2cf-3089-449e-c710-cf44475a2123"
      },
      "source": [
        "#Plotting Graph For Top 10 Countries Participating\n",
        "plt.figure(figsize=(12,6))\n",
        "plt.title('Overall Participation by Countries')\n",
        "sns.barplot(x=top_countries.index, y=top_countries,palette='Set1');\n"
      ],
      "execution_count": null,
      "outputs": [
        {
          "output_type": "display_data",
          "data": {
            "image/png": "[encoded data removed]",
            "text/plain": [
              "<Figure size 864x432 with 1 Axes>"
            ]
          },
          "metadata": {
            "needs_background": "light"
          }
        }
      ]
    },
    {
      "cell_type": "markdown",
      "metadata": {
        "id": "Yu1LHG6opgG6"
      },
      "source": [
        "** Total of How many Countries till now participated in summer Olympics**"
      ]
    },
    {
      "cell_type": "code",
      "metadata": {
        "colab": {
          "base_uri": "https://localhost:8080/"
        },
        "id": "FqnDLfj8hssB",
        "outputId": "63afe601-7622-49c0-bf35-606f1127c58b"
      },
      "source": [
        "#In how many  countries Participated in Olympic so far?\n",
        "data['Country'].unique()\n"
      ],
      "execution_count": 7,
      "outputs": [
        {
          "output_type": "execute_result",
          "data": {
            "text/plain": [
              "array(['HUN', 'AUT', 'GRE', 'USA', 'GER', 'GBR', 'FRA', 'AUS', 'DEN',\n",
              "       'SUI', 'ZZX', 'NED', 'BEL', 'IND', 'CAN', 'BOH', 'SWE', 'NOR',\n",
              "       'ESP', 'ITA', 'CUB', 'ANZ', 'RSA', 'FIN', 'RU1', 'EST', 'TCH',\n",
              "       'NZL', 'BRA', 'JPN', 'LUX', 'ARG', 'POL', 'POR', 'URU', 'YUG',\n",
              "       'ROU', 'HAI', 'EGY', 'PHI', 'IRL', 'CHI', 'LAT', 'MEX', 'TUR',\n",
              "       'PAN', 'JAM', 'SRI', 'KOR', 'PUR', 'PER', 'IRI', 'TRI', 'URS',\n",
              "       'VEN', 'BUL', 'LIB', 'EUA', 'ISL', 'PAK', 'BAH', 'BWI', 'TPE',\n",
              "       'ETH', 'MAR', 'GHA', 'IRQ', 'SIN', 'TUN', 'KEN', 'NGR', 'GDR',\n",
              "       'FRG', 'UGA', 'CMR', 'MGL', 'PRK', 'COL', 'NIG', 'THA', 'BER',\n",
              "       'TAN', 'GUY', 'ZIM', 'CHN', 'CIV', 'ZAM', 'DOM', 'ALG', 'SYR',\n",
              "       'SUR', 'CRC', 'INA', 'SEN', 'DJI', 'AHO', 'ISV', 'EUN', 'NAM',\n",
              "       'QAT', 'LTU', 'MAS', 'CRO', 'ISR', 'SLO', 'IOP', 'RUS', 'UKR',\n",
              "       'ECU', 'BDI', 'MOZ', 'CZE', 'BLR', 'TGA', 'KAZ', 'UZB', 'SVK',\n",
              "       'MDA', 'GEO', 'HKG', 'ARM', 'AZE', 'BAR', 'KSA', 'KGZ', 'KUW',\n",
              "       'VIE', 'MKD', 'SCG', 'ERI', 'PAR', 'UAE', 'SRB', 'SUD', 'MRI',\n",
              "       'TOG', 'TJK', 'AFG', nan, 'BRN', 'GUA', 'GRN', 'TTO', 'BOT', 'MNE',\n",
              "       'CYP', 'SGP', 'GAB'], dtype=object)"
            ]
          },
          "metadata": {},
          "execution_count": 7
        }
      ]
    },
    {
      "cell_type": "code",
      "metadata": {
        "colab": {
          "base_uri": "https://localhost:8080/"
        },
        "id": "xwLOvIgpiHL0",
        "outputId": "9ef95d13-6c68-4f68-fe37-192750b18d08"
      },
      "source": [
        "#Unique City \n",
        "data['City'].unique()\n",
        "# Unique Cities in Which Summer Olympics Has been held."
      ],
      "execution_count": 39,
      "outputs": [
        {
          "output_type": "execute_result",
          "data": {
            "text/plain": [
              "array(['Athens', 'Paris', 'St Louis', 'London', 'Stockholm', 'Antwerp',\n",
              "       'Amsterdam', 'Los Angeles', 'Berlin', 'Helsinki',\n",
              "       'Melbourne / Stockholm', 'Rome', 'Tokyo', 'Mexico', 'Munich',\n",
              "       'Montreal', 'Moscow', 'Seoul', 'Barcelona', 'Atlanta', 'Sydney',\n",
              "       'Beijing'], dtype=object)"
            ]
          },
          "metadata": {},
          "execution_count": 39
        }
      ]
    },
    {
      "cell_type": "markdown",
      "metadata": {
        "id": "uaHHiN9Lps_7"
      },
      "source": [
        "6.  Gender Distribution In Summer OLympics** "
      ]
    },
    {
      "cell_type": "code",
      "metadata": {
        "colab": {
          "base_uri": "https://localhost:8080/"
        },
        "id": "O7lFT2iC1GDQ",
        "outputId": "b21121b5-dc99-4409-d530-c2ee42df87ca"
      },
      "source": [
        "#Male and Female Players In the Events \n",
        "gendis=data.Gender.value_counts().sort_values(ascending=False).head(10)\n",
        "gendis"
      ],
      "execution_count": null,
      "outputs": [
        {
          "output_type": "execute_result",
          "data": {
            "text/plain": [
              "Men      22746\n",
              "Women     8419\n",
              "Name: Gender, dtype: int64"
            ]
          },
          "metadata": {},
          "execution_count": 62
        }
      ]
    },
    {
      "cell_type": "code",
      "metadata": {
        "colab": {
          "base_uri": "https://localhost:8080/",
          "height": 427
        },
        "id": "dxykDZ337B4S",
        "outputId": "50cba24b-dcd7-4ed1-c017-e396fe63491a"
      },
      "source": [
        "#Plotting Graph For Gender Distribution\n",
        "plt.figure(figsize=(14,7))\n",
        "plt.title('Gender Distribution Of Athletes')\n",
        "plt.pie(gendis, labels=gendis.index,startangle=90);"
      ],
      "execution_count": null,
      "outputs": [
        {
          "output_type": "display_data",
          "data": {
            "image/png": "[encoded data removed]",
            "text/plain": [
              "<Figure size 1008x504 with 1 Axes>"
            ]
          },
          "metadata": {}
        }
      ]
    },
    {
      "cell_type": "markdown",
      "metadata": {
        "id": "1Wi2m_fdp7Ow"
      },
      "source": [
        " 7. Which Sport Have Most Number Of Gold Medal Till Now"
      ]
    },
    {
      "cell_type": "code",
      "metadata": {
        "id": "i-F7FUH2DxHo",
        "colab": {
          "base_uri": "https://localhost:8080/",
          "height": 204
        },
        "outputId": "cdb76416-1f85-4bfd-f29c-46af46200345"
      },
      "source": [
        "#which Sport is having most number of Gold medals\n",
        "sport_by_medal = data[(data[\"Medal\"] == \"Gold\")][[\"Sport\", \"Medal\"]]\n",
        "sport_by_medal = sport_by_medal.value_counts([\"Sport\"]).reset_index(name = \"Count of Gold Medals\")[:5]\n",
        "sport_by_medal"
      ],
      "execution_count": 8,
      "outputs": [
        {
          "output_type": "execute_result",
          "data": {
            "text/html": [
              "<div>\n",
              "<style scoped>\n",
              "    .dataframe tbody tr th:only-of-type {\n",
              "        vertical-align: middle;\n",
              "    }\n",
              "\n",
              "    .dataframe tbody tr th {\n",
              "        vertical-align: top;\n",
              "    }\n",
              "\n",
              "    .dataframe thead th {\n",
              "        text-align: right;\n",
              "    }\n",
              "</style>\n",
              "<table border=\"1\" class=\"dataframe\">\n",
              "  <thead>\n",
              "    <tr style=\"text-align: right;\">\n",
              "      <th></th>\n",
              "      <th>Sport</th>\n",
              "      <th>Count of Gold Medals</th>\n",
              "    </tr>\n",
              "  </thead>\n",
              "  <tbody>\n",
              "    <tr>\n",
              "      <th>0</th>\n",
              "      <td>Aquatics</td>\n",
              "      <td>1421</td>\n",
              "    </tr>\n",
              "    <tr>\n",
              "      <th>1</th>\n",
              "      <td>Athletics</td>\n",
              "      <td>1215</td>\n",
              "    </tr>\n",
              "    <tr>\n",
              "      <th>2</th>\n",
              "      <td>Rowing</td>\n",
              "      <td>890</td>\n",
              "    </tr>\n",
              "    <tr>\n",
              "      <th>3</th>\n",
              "      <td>Gymnastics</td>\n",
              "      <td>820</td>\n",
              "    </tr>\n",
              "    <tr>\n",
              "      <th>4</th>\n",
              "      <td>Fencing</td>\n",
              "      <td>552</td>\n",
              "    </tr>\n",
              "  </tbody>\n",
              "</table>\n",
              "</div>"
            ],
            "text/plain": [
              "        Sport  Count of Gold Medals\n",
              "0    Aquatics                  1421\n",
              "1   Athletics                  1215\n",
              "2      Rowing                   890\n",
              "3  Gymnastics                   820\n",
              "4     Fencing                   552"
            ]
          },
          "metadata": {},
          "execution_count": 8
        }
      ]
    },
    {
      "cell_type": "code",
      "metadata": {
        "id": "KMlxsaz7_Nro",
        "colab": {
          "base_uri": "https://localhost:8080/",
          "height": 453
        },
        "outputId": "ab67f637-653c-434e-bd80-5d3a1a914f82"
      },
      "source": [
        "#Graph representation Of which Sports have maximum number of Gold medals.\n",
        "sns.set_style('whitegrid')\n",
        "matplotlib.rcParams['figure.figsize'] = (8,6)\n",
        "\n",
        "plt.title(\"Sport with Maximum Gold Medals\")\n",
        "barplot = sns.barplot(data=sport_by_medal, x=\"Sport\", y=\"Count of Gold Medals\",hue=\"Sport\",palette=\"rainbow\", dodge=False)\n",
        "barplot.set_xticklabels(rotation=90, labels=sport_by_medal.Sport)\n",
        "plt.ylabel(\"Count of Gold Medals\")\n",
        "plt.show()\n"
      ],
      "execution_count": 17,
      "outputs": [
        {
          "output_type": "display_data",
          "data": {
            "image/png": "[encoded data removed]",
            "text/plain": [
              "<Figure size 576x432 with 1 Axes>"
            ]
          },
          "metadata": {}
        }
      ]
    },
    {
      "cell_type": "markdown",
      "metadata": {
        "id": "rkXunm3lqDoz"
      },
      "source": [
        "8. Which individual Player has won most number of medals."
      ]
    },
    {
      "cell_type": "code",
      "metadata": {
        "id": "vCq31-zE_BPM",
        "colab": {
          "base_uri": "https://localhost:8080/",
          "height": 204
        },
        "outputId": "cf04257a-db41-4142-8de4-7b18194ebb18"
      },
      "source": [
        "#Which Individual Player has most Number of Gold Medals.\n",
        "\n",
        "medal = data[[\"Athlete\",\"Medal\"]]\n",
        "medal = medal.value_counts(\"Athlete\").reset_index(name=\"Count of Medals\")[:5]\n",
        "medal"
      ],
      "execution_count": 20,
      "outputs": [
        {
          "output_type": "execute_result",
          "data": {
            "text/html": [
              "<div>\n",
              "<style scoped>\n",
              "    .dataframe tbody tr th:only-of-type {\n",
              "        vertical-align: middle;\n",
              "    }\n",
              "\n",
              "    .dataframe tbody tr th {\n",
              "        vertical-align: top;\n",
              "    }\n",
              "\n",
              "    .dataframe thead th {\n",
              "        text-align: right;\n",
              "    }\n",
              "</style>\n",
              "<table border=\"1\" class=\"dataframe\">\n",
              "  <thead>\n",
              "    <tr style=\"text-align: right;\">\n",
              "      <th></th>\n",
              "      <th>Athlete</th>\n",
              "      <th>Count of Medals</th>\n",
              "    </tr>\n",
              "  </thead>\n",
              "  <tbody>\n",
              "    <tr>\n",
              "      <th>0</th>\n",
              "      <td>PHELPS, Michael</td>\n",
              "      <td>22</td>\n",
              "    </tr>\n",
              "    <tr>\n",
              "      <th>1</th>\n",
              "      <td>LATYNINA, Larisa</td>\n",
              "      <td>18</td>\n",
              "    </tr>\n",
              "    <tr>\n",
              "      <th>2</th>\n",
              "      <td>ANDRIANOV, Nikolay</td>\n",
              "      <td>15</td>\n",
              "    </tr>\n",
              "    <tr>\n",
              "      <th>3</th>\n",
              "      <td>MANGIAROTTI, Edoardo</td>\n",
              "      <td>13</td>\n",
              "    </tr>\n",
              "    <tr>\n",
              "      <th>4</th>\n",
              "      <td>SHAKHLIN, Boris</td>\n",
              "      <td>13</td>\n",
              "    </tr>\n",
              "  </tbody>\n",
              "</table>\n",
              "</div>"
            ],
            "text/plain": [
              "                Athlete  Count of Medals\n",
              "0       PHELPS, Michael               22\n",
              "1      LATYNINA, Larisa               18\n",
              "2    ANDRIANOV, Nikolay               15\n",
              "3  MANGIAROTTI, Edoardo               13\n",
              "4       SHAKHLIN, Boris               13"
            ]
          },
          "metadata": {},
          "execution_count": 20
        }
      ]
    },
    {
      "cell_type": "code",
      "metadata": {
        "colab": {
          "base_uri": "https://localhost:8080/",
          "height": 511
        },
        "id": "yWEGFeuKkT8-",
        "outputId": "f2b1952a-2ffd-4723-fafd-7dd302843226"
      },
      "source": [
        "sns.set_style('whitegrid')\n",
        "matplotlib.rcParams['figure.figsize'] = (8,6)\n",
        "\n",
        "plt.title(\"Players with Maximum Individual Medals\")\n",
        "barplot = sns.barplot(data=medal, x=\"Athlete\", y=\"Count of Medals\",hue=\"Athlete\",palette=\"Accent\", dodge=False)\n",
        "barplot.set_xticklabels(rotation=90, labels=medal.Athlete)\n",
        "plt.ylabel(\"Count of Medals\")\n",
        "plt.show()"
      ],
      "execution_count": 24,
      "outputs": [
        {
          "output_type": "display_data",
          "data": {
            "image/png": "[encoded data removed]",
            "text/plain": [
              "<Figure size 576x432 with 1 Axes>"
            ]
          },
          "metadata": {}
        }
      ]
    },
    {
      "cell_type": "markdown",
      "metadata": {
        "id": "wehxdO5sqTgq"
      },
      "source": [
        "Which Individual player Has won most number of gold medals."
      ]
    },
    {
      "cell_type": "code",
      "metadata": {
        "colab": {
          "base_uri": "https://localhost:8080/",
          "height": 204
        },
        "id": "DzGCJxGnkqyv",
        "outputId": "95abd5e5-19ea-499b-bbac-60ec95d4ef8d"
      },
      "source": [
        "#Which Player Have Maximum NUmber Of Gold Medals.\n",
        "individual_medals = data[(data[\"Medal\"] == \"Gold\")][[\"Athlete\", \"Medal\"]]\n",
        "individual_medals = individual_medals.value_counts([\"Athlete\"]).reset_index(name = \"Count of Gold Medals\")[:5]\n",
        "individual_medals"
      ],
      "execution_count": 26,
      "outputs": [
        {
          "output_type": "execute_result",
          "data": {
            "text/html": [
              "<div>\n",
              "<style scoped>\n",
              "    .dataframe tbody tr th:only-of-type {\n",
              "        vertical-align: middle;\n",
              "    }\n",
              "\n",
              "    .dataframe tbody tr th {\n",
              "        vertical-align: top;\n",
              "    }\n",
              "\n",
              "    .dataframe thead th {\n",
              "        text-align: right;\n",
              "    }\n",
              "</style>\n",
              "<table border=\"1\" class=\"dataframe\">\n",
              "  <thead>\n",
              "    <tr style=\"text-align: right;\">\n",
              "      <th></th>\n",
              "      <th>Athlete</th>\n",
              "      <th>Count of Gold Medals</th>\n",
              "    </tr>\n",
              "  </thead>\n",
              "  <tbody>\n",
              "    <tr>\n",
              "      <th>0</th>\n",
              "      <td>PHELPS, Michael</td>\n",
              "      <td>18</td>\n",
              "    </tr>\n",
              "    <tr>\n",
              "      <th>1</th>\n",
              "      <td>NURMI, Paavo</td>\n",
              "      <td>9</td>\n",
              "    </tr>\n",
              "    <tr>\n",
              "      <th>2</th>\n",
              "      <td>SPITZ, Mark</td>\n",
              "      <td>9</td>\n",
              "    </tr>\n",
              "    <tr>\n",
              "      <th>3</th>\n",
              "      <td>LEWIS, Carl</td>\n",
              "      <td>9</td>\n",
              "    </tr>\n",
              "    <tr>\n",
              "      <th>4</th>\n",
              "      <td>LATYNINA, Larisa</td>\n",
              "      <td>9</td>\n",
              "    </tr>\n",
              "  </tbody>\n",
              "</table>\n",
              "</div>"
            ],
            "text/plain": [
              "            Athlete  Count of Gold Medals\n",
              "0   PHELPS, Michael                    18\n",
              "1      NURMI, Paavo                     9\n",
              "2       SPITZ, Mark                     9\n",
              "3       LEWIS, Carl                     9\n",
              "4  LATYNINA, Larisa                     9"
            ]
          },
          "metadata": {},
          "execution_count": 26
        }
      ]
    },
    {
      "cell_type": "code",
      "metadata": {
        "colab": {
          "base_uri": "https://localhost:8080/",
          "height": 466
        },
        "id": "VkP4DM9hl4AG",
        "outputId": "006428a9-8ecd-4456-b09a-44a72a6f6532"
      },
      "source": [
        "sns.set_style('whitegrid')\n",
        "matplotlib.rcParams['figure.figsize'] = (8,6)\n",
        "\n",
        "plt.title(\"Players With Maximum Gold Medals\")\n",
        "barplot = sns.barplot(data=individual_medals, x=\"Athlete\", y=\"Count of Gold Medals\", hue=\"Athlete\", palette=\"gist_earth\", dodge=False)\n",
        "barplot.set_xticklabels(rotation=50, labels=individual_medals.Athlete)\n",
        "plt.ylabel(\"Count of Gold Medals\")\n",
        "plt.show()"
      ],
      "execution_count": 30,
      "outputs": [
        {
          "output_type": "display_data",
          "data": {
            "image/png": "[encoded data removed]",
            "text/plain": [
              "<Figure size 576x432 with 1 Axes>"
            ]
          },
          "metadata": {}
        }
      ]
    },
    {
      "cell_type": "markdown",
      "metadata": {
        "id": "-Kfe0d0rqdAo"
      },
      "source": [
        "In which Year India won it's first gold medal."
      ]
    },
    {
      "cell_type": "code",
      "metadata": {
        "colab": {
          "base_uri": "https://localhost:8080/",
          "height": 328
        },
        "id": "fewftzDWmPgB",
        "outputId": "016afed8-38a0-476a-bdd0-bdd6b77179e4"
      },
      "source": [
        "#India's First Gold Medal..\n",
        "\n",
        "India_gold = data [(data [\"Medal\"] == \"Gold\") & (data [\"Country\"] == \"IND\")][[\"Medal\", \"Year\"]]\n",
        "India_gold = India_gold.value_counts([\"Year\"]).reset_index(name = \"Count of Gold Medals\")[:]\n",
        "India_gold.sort_values(\"Year\")"
      ],
      "execution_count": 31,
      "outputs": [
        {
          "output_type": "execute_result",
          "data": {
            "text/html": [
              "<div>\n",
              "<style scoped>\n",
              "    .dataframe tbody tr th:only-of-type {\n",
              "        vertical-align: middle;\n",
              "    }\n",
              "\n",
              "    .dataframe tbody tr th {\n",
              "        vertical-align: top;\n",
              "    }\n",
              "\n",
              "    .dataframe thead th {\n",
              "        text-align: right;\n",
              "    }\n",
              "</style>\n",
              "<table border=\"1\" class=\"dataframe\">\n",
              "  <thead>\n",
              "    <tr style=\"text-align: right;\">\n",
              "      <th></th>\n",
              "      <th>Year</th>\n",
              "      <th>Count of Gold Medals</th>\n",
              "    </tr>\n",
              "  </thead>\n",
              "  <tbody>\n",
              "    <tr>\n",
              "      <th>5</th>\n",
              "      <td>1928</td>\n",
              "      <td>15</td>\n",
              "    </tr>\n",
              "    <tr>\n",
              "      <th>7</th>\n",
              "      <td>1932</td>\n",
              "      <td>11</td>\n",
              "    </tr>\n",
              "    <tr>\n",
              "      <th>1</th>\n",
              "      <td>1936</td>\n",
              "      <td>19</td>\n",
              "    </tr>\n",
              "    <tr>\n",
              "      <th>0</th>\n",
              "      <td>1948</td>\n",
              "      <td>20</td>\n",
              "    </tr>\n",
              "    <tr>\n",
              "      <th>6</th>\n",
              "      <td>1952</td>\n",
              "      <td>14</td>\n",
              "    </tr>\n",
              "    <tr>\n",
              "      <th>2</th>\n",
              "      <td>1956</td>\n",
              "      <td>17</td>\n",
              "    </tr>\n",
              "    <tr>\n",
              "      <th>4</th>\n",
              "      <td>1964</td>\n",
              "      <td>15</td>\n",
              "    </tr>\n",
              "    <tr>\n",
              "      <th>3</th>\n",
              "      <td>1980</td>\n",
              "      <td>16</td>\n",
              "    </tr>\n",
              "    <tr>\n",
              "      <th>8</th>\n",
              "      <td>2008</td>\n",
              "      <td>1</td>\n",
              "    </tr>\n",
              "  </tbody>\n",
              "</table>\n",
              "</div>"
            ],
            "text/plain": [
              "   Year  Count of Gold Medals\n",
              "5  1928                    15\n",
              "7  1932                    11\n",
              "1  1936                    19\n",
              "0  1948                    20\n",
              "6  1952                    14\n",
              "2  1956                    17\n",
              "4  1964                    15\n",
              "3  1980                    16\n",
              "8  2008                     1"
            ]
          },
          "metadata": {},
          "execution_count": 31
        }
      ]
    },
    {
      "cell_type": "markdown",
      "metadata": {
        "id": "k4b1KgJ9qlDg"
      },
      "source": [
        "Which Events has most Number of Female Gold medalists."
      ]
    },
    {
      "cell_type": "code",
      "metadata": {
        "colab": {
          "base_uri": "https://localhost:8080/",
          "height": 204
        },
        "id": "MtuJ18_Umr2O",
        "outputId": "4b727bb6-ce49-4588-8e13-3f6fa2e3d43b"
      },
      "source": [
        "#Which Event has most Numbers of Female Champions(Gold medalists).\n",
        "F_medal = data [(data [\"Medal\"] == \"Gold\") & (data [\"Gender\"] == \"Women\")][[\"Sport\", \"Medal\"]]\n",
        "F_medal = F_medal.value_counts([\"Sport\"]).reset_index(name = \"Count of Gold Medals\")[:5]\n",
        "F_medal"
      ],
      "execution_count": 32,
      "outputs": [
        {
          "output_type": "execute_result",
          "data": {
            "text/html": [
              "<div>\n",
              "<style scoped>\n",
              "    .dataframe tbody tr th:only-of-type {\n",
              "        vertical-align: middle;\n",
              "    }\n",
              "\n",
              "    .dataframe tbody tr th {\n",
              "        vertical-align: top;\n",
              "    }\n",
              "\n",
              "    .dataframe thead th {\n",
              "        text-align: right;\n",
              "    }\n",
              "</style>\n",
              "<table border=\"1\" class=\"dataframe\">\n",
              "  <thead>\n",
              "    <tr style=\"text-align: right;\">\n",
              "      <th></th>\n",
              "      <th>Sport</th>\n",
              "      <th>Count of Gold Medals</th>\n",
              "    </tr>\n",
              "  </thead>\n",
              "  <tbody>\n",
              "    <tr>\n",
              "      <th>0</th>\n",
              "      <td>Aquatics</td>\n",
              "      <td>589</td>\n",
              "    </tr>\n",
              "    <tr>\n",
              "      <th>1</th>\n",
              "      <td>Athletics</td>\n",
              "      <td>389</td>\n",
              "    </tr>\n",
              "    <tr>\n",
              "      <th>2</th>\n",
              "      <td>Gymnastics</td>\n",
              "      <td>268</td>\n",
              "    </tr>\n",
              "    <tr>\n",
              "      <th>3</th>\n",
              "      <td>Rowing</td>\n",
              "      <td>217</td>\n",
              "    </tr>\n",
              "    <tr>\n",
              "      <th>4</th>\n",
              "      <td>Volleyball</td>\n",
              "      <td>166</td>\n",
              "    </tr>\n",
              "  </tbody>\n",
              "</table>\n",
              "</div>"
            ],
            "text/plain": [
              "        Sport  Count of Gold Medals\n",
              "0    Aquatics                   589\n",
              "1   Athletics                   389\n",
              "2  Gymnastics                   268\n",
              "3      Rowing                   217\n",
              "4  Volleyball                   166"
            ]
          },
          "metadata": {},
          "execution_count": 32
        }
      ]
    },
    {
      "cell_type": "markdown",
      "metadata": {
        "id": "mOyq8q9Pq69a"
      },
      "source": [
        ""
      ]
    },
    {
      "cell_type": "code",
      "metadata": {
        "colab": {
          "base_uri": "https://localhost:8080/",
          "height": 445
        },
        "id": "loV3k5linI60",
        "outputId": "46993cd8-52ba-4624-bbe9-52398305e04a"
      },
      "source": [
        "sns.set_style('whitegrid')\n",
        "matplotlib.rcParams['figure.figsize'] = (10,6)\n",
        "\n",
        "plt.title(\"Sport With Maximum Number Of Female Gold Medalists\")\n",
        "barplot = sns.barplot(data=F_medal, x=\"Sport\", y=\"Count of Gold Medals\", hue=\"Sport\", palette=\"tab10\", dodge=False)\n",
        "barplot.set_xticklabels(rotation=50, labels=F_medal.Sport)\n",
        "plt.ylabel(\"Count of Female Champions\")\n",
        "plt.show()"
      ],
      "execution_count": 34,
      "outputs": [
        {
          "output_type": "display_data",
          "data": {
            "image/png": "[encoded data removed]",
            "text/plain": [
              "<Figure size 720x432 with 1 Axes>"
            ]
          },
          "metadata": {}
        }
      ]
    },
    {
      "cell_type": "markdown",
      "metadata": {
        "id": "KpdQW0oNq_EI"
      },
      "source": [
        "Which team event is most popular in terms of players participation."
      ]
    },
    {
      "cell_type": "code",
      "metadata": {
        "colab": {
          "base_uri": "https://localhost:8080/",
          "height": 204
        },
        "id": "tKsEGF2erKtf",
        "outputId": "07986541-9c57-4385-9abd-0311133564f1"
      },
      "source": [
        "popular_event = data[[\"Event\",\"Athlete\"]]\n",
        "popular_event = popular_event.value_counts(\"Event\").reset_index(name=\"Count of Players\")[:5]\n",
        "popular_event"
      ],
      "execution_count": 36,
      "outputs": [
        {
          "output_type": "execute_result",
          "data": {
            "text/html": [
              "<div>\n",
              "<style scoped>\n",
              "    .dataframe tbody tr th:only-of-type {\n",
              "        vertical-align: middle;\n",
              "    }\n",
              "\n",
              "    .dataframe tbody tr th {\n",
              "        vertical-align: top;\n",
              "    }\n",
              "\n",
              "    .dataframe thead th {\n",
              "        text-align: right;\n",
              "    }\n",
              "</style>\n",
              "<table border=\"1\" class=\"dataframe\">\n",
              "  <thead>\n",
              "    <tr style=\"text-align: right;\">\n",
              "      <th></th>\n",
              "      <th>Event</th>\n",
              "      <th>Count of Players</th>\n",
              "    </tr>\n",
              "  </thead>\n",
              "  <tbody>\n",
              "    <tr>\n",
              "      <th>0</th>\n",
              "      <td>Football</td>\n",
              "      <td>1497</td>\n",
              "    </tr>\n",
              "    <tr>\n",
              "      <th>1</th>\n",
              "      <td>Hockey</td>\n",
              "      <td>1422</td>\n",
              "    </tr>\n",
              "    <tr>\n",
              "      <th>2</th>\n",
              "      <td>Team Competition</td>\n",
              "      <td>1147</td>\n",
              "    </tr>\n",
              "    <tr>\n",
              "      <th>3</th>\n",
              "      <td>Basketball</td>\n",
              "      <td>1012</td>\n",
              "    </tr>\n",
              "    <tr>\n",
              "      <th>4</th>\n",
              "      <td>Handball</td>\n",
              "      <td>973</td>\n",
              "    </tr>\n",
              "  </tbody>\n",
              "</table>\n",
              "</div>"
            ],
            "text/plain": [
              "              Event  Count of Players\n",
              "0          Football              1497\n",
              "1            Hockey              1422\n",
              "2  Team Competition              1147\n",
              "3        Basketball              1012\n",
              "4          Handball               973"
            ]
          },
          "metadata": {},
          "execution_count": 36
        }
      ]
    },
    {
      "cell_type": "code",
      "metadata": {
        "colab": {
          "base_uri": "https://localhost:8080/",
          "height": 469
        },
        "id": "g8HBOW4mrj23",
        "outputId": "37798cb1-adeb-45d3-838d-ab632e92411c"
      },
      "source": [
        "sns.set_style('whitegrid')\n",
        "matplotlib.rcParams['figure.figsize'] = (8,6)\n",
        "\n",
        "plt.title(\"Most Popular Event In Terms of Number Of Players\")\n",
        "barplot = sns.barplot(data=popular_event, x=\"Event\", y=\"Count of Players\", hue=\"Event\",palette=\"cividis\", dodge=False)\n",
        "barplot.set_xticklabels(rotation=50, labels=popular_event.Event)\n",
        "plt.ylabel(\"Count of Players\")\n",
        "plt.show()"
      ],
      "execution_count": 38,
      "outputs": [
        {
          "output_type": "display_data",
          "data": {
            "image/png": "[encoded data removed]",
            "text/plain": [
              "<Figure size 576x432 with 1 Axes>"
            ]
          },
          "metadata": {}
        }
      ]
    }
  ]
}